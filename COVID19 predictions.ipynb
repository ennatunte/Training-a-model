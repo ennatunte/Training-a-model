{
 "cells": [
  {
   "cell_type": "markdown",
   "metadata": {},
   "source": [
    "За изработката на ова решение ќе се користат податоци кои претходно ќе се извлечат од соодветно избраниот веб-сајт https://koronavirus.gov.mk/. За таа цел се користат библиотеки на Python за data scraping и data crawling."
   ]
  },
  {
   "cell_type": "markdown",
   "metadata": {},
   "source": [
    "### 1. СОБИРАЊЕ ПОДАТОЦИ"
   ]
  },
  {
   "cell_type": "markdown",
   "metadata": {},
   "source": [
    "Потребните податоци на веб-сајтот се распоредени низ повеќе известувања (новости) во период од 15.03.2020 до 12.05.2020. Може да се забележи дека ваквите известувања се распоредени на вкупно 14 pages. Со следната ќелија код се зачувуваат сите pages на кои се наоѓаат потребните податоци за подоцна да може да ги прелистуваме и да го влечиме потребното од нив. "
   ]
  },
  {
   "cell_type": "code",
   "execution_count": 1,
   "metadata": {},
   "outputs": [],
   "source": [
    "websites=[]\n",
    "for i in range (1,15):\n",
    "    websites.append('https://koronavirus.gov.mk/vesti/category/izvestuvanja/page/' + str(i))\n",
    "#print(websites)"
   ]
  },
  {
   "cell_type": "markdown",
   "metadata": {},
   "source": [
    "За влечење на потребните податоци се користи пакетот Selenium. Информациите за COVID19 (новозаболени, оздравени, починати и вкупно дијагностицирани) може да се најдат во .alt атрибутот на img елементите на веб-сајтот. На сличен начин, се наоѓа и соодветниот датум за секоја новост. Со соодветен код се естрахираат податоците од сите слики на новостите."
   ]
  },
  {
   "cell_type": "code",
   "execution_count": 2,
   "metadata": {},
   "outputs": [],
   "source": [
    "from selenium import webdriver\n",
    "import pandas as pd\n",
    "driver = webdriver.Chrome(\"C:\\\\Users\\\\Ena\\\\Downloads\\chromedriver.exe\")\n",
    "images_alt=[]\n",
    "dates_all=[]\n",
    "\n",
    "for i in range(0,14):\n",
    "    url = (websites[i])\n",
    "    driver.get(url)\n",
    "    images = driver.find_elements_by_css_selector('div.et_pb_image_container > a > img')\n",
    "    \n",
    "    for i in range (len(images)):\n",
    "        #print(images[i].get_attribute(\"alt\"))\n",
    "        images_alt.append(images[i].get_attribute(\"alt\"))\n",
    "        \n",
    "    dates_elements = driver.find_elements_by_css_selector('div.et_pb_image_container + h2.entry-title + p > span.published')\n",
    "    for date in dates_elements:\n",
    "        date_text=date.text.split(\"|\")[0]\n",
    "        dates_all.append(date_text)\n"
   ]
  },
  {
   "cell_type": "markdown",
   "metadata": {},
   "source": [
    "Со кодот во следната ќелија се селектираат само потребните информации. Тука се вклучени сите информации кои ги содржат зборовите: дијагностициран, вкупно, оздравен, починат и слично.\n",
    "Ваквите информации немаат слична структура и поради тоа нивното селектирање е малку покомплицирано од обично заради природата на самиот веб сајт. Некаде бројките на новозаболените се наоѓаат веднаш после придавката на која се однесуваат, некаде се 2-3 места понапред, а некаде се наоѓаат и пред самата придавка. Тоа може да се забележи и подолу во печатењето на информациите."
   ]
  },
  {
   "cell_type": "code",
   "execution_count": 3,
   "metadata": {},
   "outputs": [
    {
     "name": "stdout",
     "output_type": "stream",
     "text": [
      "ПОТРЕБНИ ИНФОРМАЦИИ:\n",
      "денеска се потврдени 10 нови случаи на ковид 19 – вкупната бројка на дијагностицирани 1674 оздравени се 5 пациенти – почина 1 лице\n",
      "денеска се потврдени 36 нови случаи на ковид 19 – вкупната бројка на дијагностицирани 1622 оздравени се 13 пациенти – почина 1 лице\n",
      "денеска се потврдени 14 нови случаи на ковид 19 оздравени се 20 пациенти вкупната бројка на дијагностицирани 1586 почина 1 лице\n",
      "оздравени се 45 пациенти потврдени се 15 нови случаи на ковид 19 вкупната бројка на дијагностицирани 1506 почина 1 лице\n",
      "денеска потврдени 33 нови случаи на ковид 19 – вкупната бројка дијагностицирани 1572 лица\n",
      "оздравени се 69 пациенти потврдени се 29 нови случаи на ковид 19 вкупната бројка на дијагностицирани 1494 починати се 4 лица\n",
      "оздравени се 38 пациенти потврден 21 нов случај на ковид 19 вкупната бројка на дијагностицирани 1442 починати се 2 лица\n",
      "оздравени се 36 пациенти потврдени нови 22 случи на ковид 19 вкупната бројка на дијагностицирани 1421 починати се 6 лица\n",
      "оздравени се 53 пациенти потврдени 13 нови случи на ковид 19 вкупната бројка на дијагностицирани 1399 починати се 4 лица\n",
      "оздравени се 29 пациенти потврден е 41 нов случај на ковид 19 – вкупната бројка на дијагностицирани е 1300\n",
      "оздравени се 126 пациенти потврдени 19 нови случи на ковид 19 – вкупната бројка на дијагностицирани 1386 починати се 2 лица\n",
      "рекордни 728 теста потврден 41 нов случај на ковид 19 – вкупната бројка на дијагностицирани 1367 оздравени се 37 пациенти – починати се 2 лица\n",
      "oздравени се 48 пациенти потврдени 28 нови случаи на ковид 19 – вкупната бројка на дијагностицирани случаи е 1259 почина 1 лице\n",
      "потврдени 53 нови случаи на ковид 19 – вкупно во земјата 1170 дијагностицирани пациенти оздравени се 25 пациенти\n",
      "потврдени 18 нови случаи на ковид-19 вкупно во земјата 1225 дијагностицирани случаи оздравен е 21 пациент – починати се 3 лица\n",
      "потврдени 7 нови случаи на ковид 19 – вкупната бројка на дијагностицирани случаи е 1231 оздравени се 24 пациенти – почина 1 лице\n",
      "потврдени 37 нови случаи на ковид 19 – вкупно во земјата 1207 дијагностицирани пациенти починаа 2 лица оздравени се 15 пациенти\n",
      "потврдени 36 нови случаи на ковид 19 – вкупно во земјата дијагностицирани 1117 пациенти починати 3 лица – оздравени се 18 пациенти\n",
      "потврдени 107 нови случаи на ковид 19 – вкупно во земјата 1081 дијагностицирани пациенти почина 1 лице оздравени се 23 пациенти\n",
      "потврдени 66 нови случаи на ковид 19 – вкупно во земјата 974 дијагностицирани пациенти починато е 1 лице – оздравени се 12 пациенти\n",
      "потврдени 54 нови случаи на ковид 19 – вкупно во земјата 908 дијагностицирани пациенти починаа 6 пациенти – регистрирани 42 оздравени\n",
      "потврдени 18 нови случаи на ковид 19 вкупната бројка во земјата е 617 дијагностицирани пациенти од коронавирус починаa 2 лица – oд инфективната клиника заминуваат 5 оздравени пациенти\n"
     ]
    }
   ],
   "source": [
    "import datetime\n",
    "\n",
    "infected=[]\n",
    "recovered=[]\n",
    "diagnosed_total=[]\n",
    "deceased=[]\n",
    "dates=[]\n",
    "dates_string=[]\n",
    "\n",
    "print(\"ПОТРЕБНИ ИНФОРМАЦИИ:\")\n",
    "#DIAGNOSED\n",
    "for i in range(len(images_alt)):\n",
    "    text=images_alt[i]\n",
    "    text=text.lower()\n",
    "    text = text.replace(',', '')\n",
    "    if 'дијаг' in text and 'вкупн' in text and 'филипче' not in text:\n",
    "        print(text)\n",
    "        words=text.split(' ')\n",
    "        for j in range (len(words)):\n",
    "            word=words[j]\n",
    "            if (word.isnumeric() and int(word)>600 and int(word)!=728):\n",
    "                    diagnosed_total.append(int(word))\n",
    "                    \n",
    "#INFECTED\n",
    "for i in range(len(images_alt)):\n",
    "    text=images_alt[i]\n",
    "    text=text.lower()\n",
    "    if 'дијаг' in text and 'вкупн' in text and 'филипче' not in text:\n",
    "        #print(text)\n",
    "        words=text.split(' ')\n",
    "        #print(zborovi)\n",
    "        #print()\n",
    "        for j in range(len(words)):\n",
    "            word=words[j]\n",
    "            if 'потврден'in word:\n",
    "                if(words[j+1].isnumeric()):\n",
    "                    infected.append(int(words[j+1]))\n",
    "                else:\n",
    "                    infected.append(int(words[j+2]))\n",
    "                    \n",
    "#RECOVERED\n",
    "for i in range(len(images_alt)):\n",
    "    text=images_alt[i]\n",
    "    text=text.lower()\n",
    "    if 'дијаг' in text and 'вкупн' in text and 'филипче' not in text:\n",
    "        #print(text)\n",
    "        if ('оздравен' not in text):\n",
    "            recovered.append(0)\n",
    "        else:\n",
    "            words=text.split(' ')\n",
    "            #print(zborovi)\n",
    "            #print()\n",
    "            for j in range (len(words)):\n",
    "                word=words[j]\n",
    "                if 'оздравен' in word:\n",
    "                        if(j-1>0 and words[j-1].isnumeric()):\n",
    "                            recovered.append(int(words[j-1]))\n",
    "                        elif (words[j+1].isnumeric()):\n",
    "                            recovered.append(int(words[j+1]))                   \n",
    "                        else:\n",
    "                            recovered.append(int(words[j+2]))\n",
    "\n",
    "#DECEASED\n",
    "for i in range(len(images_alt)):\n",
    "    text=images_alt[i]\n",
    "    text=text.lower()\n",
    "    if 'дијаг' in text and 'вкупн' in text and 'филипче' not in text:\n",
    "        #print(text)\n",
    "        d=dates_all[i].split('.')\n",
    "        d1=datetime.date(int(d[2]),int(d[1]),int(d[0]))\n",
    "        #print(d1)\n",
    "        dates.append(d1)\n",
    "        dates_string.append(dates_all[i])\n",
    "        #print(dates)\n",
    "        if('почина' not in text):\n",
    "            deceased.append(0)\n",
    "        else:\n",
    "            words=text.split(' ')        \n",
    "            for j in range(len(words)):\n",
    "                word=words[j]                \n",
    "                if 'почина' in word:\n",
    "                    if (words[j+1].isnumeric()):\n",
    "                        deceased.append(int(words[j+1]))\n",
    "                    elif (words[j+2].isnumeric()):\n",
    "                        deceased.append(int(words[j+2]))          \n"
   ]
  },
  {
   "cell_type": "markdown",
   "metadata": {},
   "source": [
    "### 2. ПРЕТПРОЦЕСИРАЊЕ"
   ]
  },
  {
   "cell_type": "markdown",
   "metadata": {},
   "source": [
    "Во фазата на претпроцесирање се средуваат податоците во соодветна форма и се прават некои анализи врз нив."
   ]
  },
  {
   "cell_type": "code",
   "execution_count": 4,
   "metadata": {},
   "outputs": [
    {
     "name": "stdout",
     "output_type": "stream",
     "text": [
      "ПОТРЕБНИ ПОДАТОЦИ:\n",
      "ДАТУМИ:\n",
      "22\n",
      "['12.05.2020 ', '09.05.2020 ', '08.05.2020 ', '02.05.2020 ', '07.05.2020 ', '01.05.2020 ', '29.04.2020 ', '28.04.2020 ', '27.04.2020 ', '23.04.2020 ', '26.04.2020 ', '25.04.2020 ', '22.04.2020 ', '18.04.2020 ', '20.04.2020 ', '21.04.2020 ', '19.04.2020 ', '17.04.2020 ', '16.04.2020 ', '15.04.2020 ', '14.04.2020 ', '08.04.2020 ']\n",
      "ВКУПНО ДИЈАГНОСТИЦИРАНИ:\n",
      "22\n",
      "[1674, 1622, 1586, 1506, 1572, 1494, 1442, 1421, 1399, 1300, 1386, 1367, 1259, 1170, 1225, 1231, 1207, 1117, 1081, 974, 908, 617]\n",
      "НОВОЗАБОЛЕНИ:\n",
      "22\n",
      "[10, 36, 14, 15, 33, 29, 21, 22, 13, 41, 19, 41, 28, 53, 18, 7, 37, 36, 107, 66, 54, 18]\n",
      "ОЗДРАВЕНИ:\n",
      "22\n",
      "[5, 13, 20, 45, 0, 69, 38, 36, 53, 29, 126, 37, 0, 25, 21, 24, 15, 18, 23, 12, 42, 5]\n",
      "ПОЧИНАТИ\n",
      "22\n",
      "[1, 1, 1, 1, 0, 4, 2, 6, 4, 0, 2, 2, 1, 0, 3, 1, 2, 3, 1, 1, 6, 2]\n"
     ]
    }
   ],
   "source": [
    "print(\"ПОТРЕБНИ ПОДАТОЦИ:\")\n",
    "print(\"ДАТУМИ:\")\n",
    "print(len(dates))\n",
    "#print(dates)\n",
    "print(dates_string)\n",
    "\n",
    "print(\"ВКУПНО ДИЈАГНОСТИЦИРАНИ:\")\n",
    "print(len(diagnosed_total))\n",
    "print(diagnosed_total)\n",
    "\n",
    "print(\"НОВОЗАБОЛЕНИ:\")\n",
    "print(len(infected))\n",
    "print(infected)\n",
    "\n",
    "print(\"ОЗДРАВЕНИ:\")\n",
    "print(len(recovered))\n",
    "print(recovered)\n",
    "\n",
    "print(\"ПОЧИНАТИ\")\n",
    "print(len(deceased))\n",
    "print(deceased)"
   ]
  },
  {
   "cell_type": "markdown",
   "metadata": {},
   "source": [
    "По извршената селекција, потребните информации се наоѓаат во петте низи: infected, recovered, dijagnosed_total, deceased и dates. Може да се забележи дека на веб-сајтот постојат податоци за заболените од COVID19 за <b>само 22 датуми</b>. Тоа значи дека би имале само 22 записи во нашето податочно множество, што е <b>премалку за да може било кој модел да покаже веродостојни резултати.</b>"
   ]
  },
  {
   "cell_type": "markdown",
   "metadata": {},
   "source": [
    "Со следната ќелија код податоците се преобразуваат во DataFrame. Ваквата форма на податоци ќе биде позгодна за понатамошна анализа и тренирање на моделот."
   ]
  },
  {
   "cell_type": "code",
   "execution_count": 5,
   "metadata": {},
   "outputs": [],
   "source": [
    "import pandas as pd\n",
    "import numpy as np\n",
    "\n",
    "dates=np.array(dates)\n",
    "diagnosed_total=np.array(diagnosed_total)\n",
    "infected=np.array(infected)\n",
    "recovered=np.array(recovered)\n",
    "deceased=np.array(deceased)\n",
    "\n",
    "data_total = pd.DataFrame({'Dates': dates, 'Diagnosed_total': diagnosed_total, 'Infected': infected, 'Recovered': recovered,'Deceased':deceased }).sort_values(by=['Diagnosed_total'], ascending=True)\n",
    "data_total = data_total.reset_index(drop=True)\n"
   ]
  },
  {
   "cell_type": "markdown",
   "metadata": {},
   "source": [
    "Приказ на податочното множество:"
   ]
  },
  {
   "cell_type": "code",
   "execution_count": 6,
   "metadata": {},
   "outputs": [
    {
     "name": "stdout",
     "output_type": "stream",
     "text": [
      "<bound method NDFrame.head of          Dates  Diagnosed_total  Infected  Recovered  Deceased\n",
      "0   2020-04-08              617        18          5         2\n",
      "1   2020-04-14              908        54         42         6\n",
      "2   2020-04-15              974        66         12         1\n",
      "3   2020-04-16             1081       107         23         1\n",
      "4   2020-04-17             1117        36         18         3\n",
      "5   2020-04-18             1170        53         25         0\n",
      "6   2020-04-19             1207        37         15         2\n",
      "7   2020-04-20             1225        18         21         3\n",
      "8   2020-04-21             1231         7         24         1\n",
      "9   2020-04-22             1259        28          0         1\n",
      "10  2020-04-23             1300        41         29         0\n",
      "11  2020-04-25             1367        41         37         2\n",
      "12  2020-04-26             1386        19        126         2\n",
      "13  2020-04-27             1399        13         53         4\n",
      "14  2020-04-28             1421        22         36         6\n",
      "15  2020-04-29             1442        21         38         2\n",
      "16  2020-05-01             1494        29         69         4\n",
      "17  2020-05-02             1506        15         45         1\n",
      "18  2020-05-07             1572        33          0         0\n",
      "19  2020-05-08             1586        14         20         1\n",
      "20  2020-05-09             1622        36         13         1\n",
      "21  2020-05-12             1674        10          5         1>\n"
     ]
    }
   ],
   "source": [
    "print(data_total.head)"
   ]
  },
  {
   "cell_type": "markdown",
   "metadata": {},
   "source": [
    "Пред да се започне со тренирање на моделот, важно е да се запознаеме со податоците и со нивните карактеристики. Може да се забележи дека од петте атрибути во нашето податочно множество, првиот е од тип date, а сите останати се нумерички атрибути. Во прилог следуваат пресметаните сумарни карактеристики за податоците и неколку визуелизации."
   ]
  },
  {
   "cell_type": "markdown",
   "metadata": {},
   "source": [
    "Сумарни статистики на сите нумерички атрибути од податочното множество:"
   ]
  },
  {
   "cell_type": "code",
   "execution_count": 7,
   "metadata": {},
   "outputs": [
    {
     "data": {
      "text/html": [
       "<div>\n",
       "<style scoped>\n",
       "    .dataframe tbody tr th:only-of-type {\n",
       "        vertical-align: middle;\n",
       "    }\n",
       "\n",
       "    .dataframe tbody tr th {\n",
       "        vertical-align: top;\n",
       "    }\n",
       "\n",
       "    .dataframe thead th {\n",
       "        text-align: right;\n",
       "    }\n",
       "</style>\n",
       "<table border=\"1\" class=\"dataframe\">\n",
       "  <thead>\n",
       "    <tr style=\"text-align: right;\">\n",
       "      <th></th>\n",
       "      <th>Diagnosed_total</th>\n",
       "      <th>Infected</th>\n",
       "      <th>Recovered</th>\n",
       "      <th>Deceased</th>\n",
       "    </tr>\n",
       "  </thead>\n",
       "  <tbody>\n",
       "    <tr>\n",
       "      <th>count</th>\n",
       "      <td>22.00</td>\n",
       "      <td>22.00</td>\n",
       "      <td>22.00</td>\n",
       "      <td>22.00</td>\n",
       "    </tr>\n",
       "    <tr>\n",
       "      <th>mean</th>\n",
       "      <td>1298.09</td>\n",
       "      <td>32.64</td>\n",
       "      <td>29.82</td>\n",
       "      <td>2.00</td>\n",
       "    </tr>\n",
       "    <tr>\n",
       "      <th>std</th>\n",
       "      <td>256.47</td>\n",
       "      <td>22.69</td>\n",
       "      <td>27.69</td>\n",
       "      <td>1.72</td>\n",
       "    </tr>\n",
       "    <tr>\n",
       "      <th>min</th>\n",
       "      <td>617.00</td>\n",
       "      <td>7.00</td>\n",
       "      <td>0.00</td>\n",
       "      <td>0.00</td>\n",
       "    </tr>\n",
       "    <tr>\n",
       "      <th>25%</th>\n",
       "      <td>1179.25</td>\n",
       "      <td>18.00</td>\n",
       "      <td>13.50</td>\n",
       "      <td>1.00</td>\n",
       "    </tr>\n",
       "    <tr>\n",
       "      <th>50%</th>\n",
       "      <td>1333.50</td>\n",
       "      <td>28.50</td>\n",
       "      <td>23.50</td>\n",
       "      <td>1.50</td>\n",
       "    </tr>\n",
       "    <tr>\n",
       "      <th>75%</th>\n",
       "      <td>1481.00</td>\n",
       "      <td>40.00</td>\n",
       "      <td>37.75</td>\n",
       "      <td>2.75</td>\n",
       "    </tr>\n",
       "    <tr>\n",
       "      <th>max</th>\n",
       "      <td>1674.00</td>\n",
       "      <td>107.00</td>\n",
       "      <td>126.00</td>\n",
       "      <td>6.00</td>\n",
       "    </tr>\n",
       "  </tbody>\n",
       "</table>\n",
       "</div>"
      ],
      "text/plain": [
       "       Diagnosed_total  Infected  Recovered  Deceased\n",
       "count            22.00     22.00      22.00     22.00\n",
       "mean           1298.09     32.64      29.82      2.00\n",
       "std             256.47     22.69      27.69      1.72\n",
       "min             617.00      7.00       0.00      0.00\n",
       "25%            1179.25     18.00      13.50      1.00\n",
       "50%            1333.50     28.50      23.50      1.50\n",
       "75%            1481.00     40.00      37.75      2.75\n",
       "max            1674.00    107.00     126.00      6.00"
      ]
     },
     "execution_count": 7,
     "metadata": {},
     "output_type": "execute_result"
    }
   ],
   "source": [
    "pd.options.display.float_format = \"{:.2f}\".format\n",
    "data_total.describe()"
   ]
  },
  {
   "cell_type": "markdown",
   "metadata": {},
   "source": [
    "Визуелизација на четирите нумерички атрибути:"
   ]
  },
  {
   "cell_type": "code",
   "execution_count": 8,
   "metadata": {},
   "outputs": [
    {
     "data": {
      "image/png": "[encoded data removed]",
      "text/plain": [
       "<Figure size 432x288 with 1 Axes>"
      ]
     },
     "metadata": {
      "needs_background": "light"
     },
     "output_type": "display_data"
    }
   ],
   "source": [
    "import matplotlib.pyplot as plt\n",
    "data_total.plot()\n",
    "plt.show()"
   ]
  },
  {
   "cell_type": "markdown",
   "metadata": {},
   "source": [
    "Целта на моделот кој ќе го тренираме е предвидување на вкупниот број дијагностицирани за следен ден врз основа на дијагностицираните лица од претходните денови (датумите за кои имаме податоци). Тоа значи дека единствените потребни податоци за нашиот модел ќе бидат датумот и вкупниот број дијагностицирани за тој датум. Се креира финално податочно множество користејќи ги само овие два атрибути."
   ]
  },
  {
   "cell_type": "code",
   "execution_count": 9,
   "metadata": {},
   "outputs": [
    {
     "name": "stdout",
     "output_type": "stream",
     "text": [
      "<bound method NDFrame.head of          Dates  Diagnosed_total\n",
      "0   2020-04-08              617\n",
      "1   2020-04-14              908\n",
      "2   2020-04-15              974\n",
      "3   2020-04-16             1081\n",
      "4   2020-04-17             1117\n",
      "5   2020-04-18             1170\n",
      "6   2020-04-19             1207\n",
      "7   2020-04-20             1225\n",
      "8   2020-04-21             1231\n",
      "9   2020-04-22             1259\n",
      "10  2020-04-23             1300\n",
      "11  2020-04-25             1367\n",
      "12  2020-04-26             1386\n",
      "13  2020-04-27             1399\n",
      "14  2020-04-28             1421\n",
      "15  2020-04-29             1442\n",
      "16  2020-05-01             1494\n",
      "17  2020-05-02             1506\n",
      "18  2020-05-07             1572\n",
      "19  2020-05-08             1586\n",
      "20  2020-05-09             1622\n",
      "21  2020-05-12             1674>\n"
     ]
    }
   ],
   "source": [
    "data_needed = pd.DataFrame({'Dates': data_total.Dates, 'Diagnosed_total': data_total.Diagnosed_total})\n",
    "print(data_needed.head)"
   ]
  },
  {
   "cell_type": "markdown",
   "metadata": {},
   "source": [
    "Во прилог е дадена визуелизацијата на односнот на двата атрибути."
   ]
  },
  {
   "cell_type": "code",
   "execution_count": 10,
   "metadata": {},
   "outputs": [
    {
     "data": {
      "text/plain": [
       "[<matplotlib.lines.Line2D at 0x188e8ea1a48>]"
      ]
     },
     "execution_count": 10,
     "metadata": {},
     "output_type": "execute_result"
    },
    {
     "data": {
      "image/png": "[encoded data removed]",
      "text/plain": [
       "<Figure size 2160x360 with 1 Axes>"
      ]
     },
     "metadata": {
      "needs_background": "light"
     },
     "output_type": "display_data"
    }
   ],
   "source": [
    "import matplotlib.pyplot as plt\n",
    "plt.figure(figsize=(30,5))\n",
    "plt.xlabel('ДАТУМ', fontsize=18)\n",
    "plt.ylabel('ВКУПЕН БРОЈ ЗАРАЗЕНИ', fontsize=18)\n",
    "plt.plot(data_needed.Dates, data_needed.Diagnosed_total)"
   ]
  },
  {
   "cell_type": "markdown",
   "metadata": {},
   "source": [
    "Станува збор за <b>податочно множество со два атрибути: датум и број на заболени за тој датум</b>. Целта е да се предвиде бројот на заболени за некој иден непознат датум. Тоа значи дека датумите ќе ни претставуваат независните променливи (X), додека вкупниот број на заболени ќе претставува зависната променлива (Y). Со следните неколку ќелии код податоците се подготвуваат во форма која ќе биде погодна за тренирање на моделот. "
   ]
  },
  {
   "cell_type": "code",
   "execution_count": 11,
   "metadata": {},
   "outputs": [],
   "source": [
    "import warnings\n",
    "warnings.filterwarnings(\"ignore\")"
   ]
  },
  {
   "cell_type": "code",
   "execution_count": 12,
   "metadata": {},
   "outputs": [
    {
     "data": {
      "text/html": [
       "<div>\n",
       "<style scoped>\n",
       "    .dataframe tbody tr th:only-of-type {\n",
       "        vertical-align: middle;\n",
       "    }\n",
       "\n",
       "    .dataframe tbody tr th {\n",
       "        vertical-align: top;\n",
       "    }\n",
       "\n",
       "    .dataframe thead th {\n",
       "        text-align: right;\n",
       "    }\n",
       "</style>\n",
       "<table border=\"1\" class=\"dataframe\">\n",
       "  <thead>\n",
       "    <tr style=\"text-align: right;\">\n",
       "      <th></th>\n",
       "      <th>Diagnosed_total</th>\n",
       "    </tr>\n",
       "    <tr>\n",
       "      <th>Dates</th>\n",
       "      <th></th>\n",
       "    </tr>\n",
       "  </thead>\n",
       "  <tbody>\n",
       "    <tr>\n",
       "      <th>2020-04-08</th>\n",
       "      <td>617</td>\n",
       "    </tr>\n",
       "    <tr>\n",
       "      <th>2020-04-14</th>\n",
       "      <td>908</td>\n",
       "    </tr>\n",
       "    <tr>\n",
       "      <th>2020-04-15</th>\n",
       "      <td>974</td>\n",
       "    </tr>\n",
       "    <tr>\n",
       "      <th>2020-04-16</th>\n",
       "      <td>1081</td>\n",
       "    </tr>\n",
       "    <tr>\n",
       "      <th>2020-04-17</th>\n",
       "      <td>1117</td>\n",
       "    </tr>\n",
       "    <tr>\n",
       "      <th>2020-04-18</th>\n",
       "      <td>1170</td>\n",
       "    </tr>\n",
       "    <tr>\n",
       "      <th>2020-04-19</th>\n",
       "      <td>1207</td>\n",
       "    </tr>\n",
       "    <tr>\n",
       "      <th>2020-04-20</th>\n",
       "      <td>1225</td>\n",
       "    </tr>\n",
       "    <tr>\n",
       "      <th>2020-04-21</th>\n",
       "      <td>1231</td>\n",
       "    </tr>\n",
       "    <tr>\n",
       "      <th>2020-04-22</th>\n",
       "      <td>1259</td>\n",
       "    </tr>\n",
       "    <tr>\n",
       "      <th>2020-04-23</th>\n",
       "      <td>1300</td>\n",
       "    </tr>\n",
       "    <tr>\n",
       "      <th>2020-04-25</th>\n",
       "      <td>1367</td>\n",
       "    </tr>\n",
       "    <tr>\n",
       "      <th>2020-04-26</th>\n",
       "      <td>1386</td>\n",
       "    </tr>\n",
       "    <tr>\n",
       "      <th>2020-04-27</th>\n",
       "      <td>1399</td>\n",
       "    </tr>\n",
       "    <tr>\n",
       "      <th>2020-04-28</th>\n",
       "      <td>1421</td>\n",
       "    </tr>\n",
       "    <tr>\n",
       "      <th>2020-04-29</th>\n",
       "      <td>1442</td>\n",
       "    </tr>\n",
       "    <tr>\n",
       "      <th>2020-05-01</th>\n",
       "      <td>1494</td>\n",
       "    </tr>\n",
       "    <tr>\n",
       "      <th>2020-05-02</th>\n",
       "      <td>1506</td>\n",
       "    </tr>\n",
       "    <tr>\n",
       "      <th>2020-05-07</th>\n",
       "      <td>1572</td>\n",
       "    </tr>\n",
       "    <tr>\n",
       "      <th>2020-05-08</th>\n",
       "      <td>1586</td>\n",
       "    </tr>\n",
       "    <tr>\n",
       "      <th>2020-05-09</th>\n",
       "      <td>1622</td>\n",
       "    </tr>\n",
       "    <tr>\n",
       "      <th>2020-05-12</th>\n",
       "      <td>1674</td>\n",
       "    </tr>\n",
       "  </tbody>\n",
       "</table>\n",
       "</div>"
      ],
      "text/plain": [
       "            Diagnosed_total\n",
       "Dates                      \n",
       "2020-04-08              617\n",
       "2020-04-14              908\n",
       "2020-04-15              974\n",
       "2020-04-16             1081\n",
       "2020-04-17             1117\n",
       "2020-04-18             1170\n",
       "2020-04-19             1207\n",
       "2020-04-20             1225\n",
       "2020-04-21             1231\n",
       "2020-04-22             1259\n",
       "2020-04-23             1300\n",
       "2020-04-25             1367\n",
       "2020-04-26             1386\n",
       "2020-04-27             1399\n",
       "2020-04-28             1421\n",
       "2020-04-29             1442\n",
       "2020-05-01             1494\n",
       "2020-05-02             1506\n",
       "2020-05-07             1572\n",
       "2020-05-08             1586\n",
       "2020-05-09             1622\n",
       "2020-05-12             1674"
      ]
     },
     "execution_count": 12,
     "metadata": {},
     "output_type": "execute_result"
    }
   ],
   "source": [
    "data_needed.to_csv('data.csv', index=False)\n",
    "import pandas as pd\n",
    "dateparse = lambda Dates: pd.datetime.strptime(Dates, '%Y-%m-%d')\n",
    "\n",
    "df = pd.read_csv(\"data.csv\", parse_dates=True, index_col= [0], date_parser=dateparse )\n",
    "\n",
    "df.head(22)"
   ]
  },
  {
   "cell_type": "markdown",
   "metadata": {},
   "source": [
    "Датумите - независните променливи (index) и бројот на дијагностицирани - зависната променлива (value):"
   ]
  },
  {
   "cell_type": "code",
   "execution_count": 13,
   "metadata": {},
   "outputs": [
    {
     "name": "stdout",
     "output_type": "stream",
     "text": [
      "DatetimeIndex(['2020-04-08', '2020-04-14', '2020-04-15', '2020-04-16',\n",
      "               '2020-04-17', '2020-04-18', '2020-04-19', '2020-04-20',\n",
      "               '2020-04-21', '2020-04-22', '2020-04-23', '2020-04-25',\n",
      "               '2020-04-26', '2020-04-27', '2020-04-28', '2020-04-29',\n",
      "               '2020-05-01', '2020-05-02', '2020-05-07', '2020-05-08',\n",
      "               '2020-05-09', '2020-05-12'],\n",
      "              dtype='datetime64[ns]', name='Dates', freq=None)\n",
      "[[ 617]\n",
      " [ 908]\n",
      " [ 974]\n",
      " [1081]\n",
      " [1117]\n",
      " [1170]\n",
      " [1207]\n",
      " [1225]\n",
      " [1231]\n",
      " [1259]\n",
      " [1300]\n",
      " [1367]\n",
      " [1386]\n",
      " [1399]\n",
      " [1421]\n",
      " [1442]\n",
      " [1494]\n",
      " [1506]\n",
      " [1572]\n",
      " [1586]\n",
      " [1622]\n",
      " [1674]]\n"
     ]
    }
   ],
   "source": [
    "import matplotlib.pylab as plt\n",
    "import numpy as np\n",
    "print(df.index)\n",
    "print(df.values)"
   ]
  },
  {
   "cell_type": "markdown",
   "metadata": {},
   "source": [
    "### 3. ТРЕНИРАЊЕ МОДЕЛ"
   ]
  },
  {
   "cell_type": "markdown",
   "metadata": {},
   "source": [
    "По детална анализа на податоците, може да се заклучи дека станува збор за временско-зависни податоци (зависат од конкретен датум). Според тоа, идеално решение за модел на овие податоци ќе биде <b> модел за Time Series Forecasting<b>."
   ]
  },
  {
   "cell_type": "markdown",
   "metadata": {},
   "source": [
    "За множеството со кое располагаме, по многубројни тестирања на различни, се одлучив за работа со <b> Autoregression Model (AR) </b>. Освен тоа што AR е Time Series Forecasting модел (добро работи со датуми), исто така овој модел дава прилично задоволителни резултати на модели со мал број атрибути (како во нашиот случај).\n",
    "Сепак мора да се земе во предвид дека податочното множество со кое работиме е многу мало (22 записи)."
   ]
  },
  {
   "cell_type": "markdown",
   "metadata": {},
   "source": [
    "Пред сѐ, податоците се трансформираат со пресметување на разлика меѓу нив, т.ш. секоја опсервација се трансформира. Моделот се тренира на 70% од податочното множество. Регресионите коефициенти учат од моделот и се користат подоцна за предикции. Во секој временски чекор на извршување на податоците, се креира предикција (yhat) користејќи ги регресионте коефициенти и се зачувува. "
   ]
  },
  {
   "cell_type": "code",
   "execution_count": 14,
   "metadata": {},
   "outputs": [
    {
     "name": "stdout",
     "output_type": "stream",
     "text": [
      "Test RMSE: 30.456\n"
     ]
    },
    {
     "data": {
      "image/png": "[encoded data removed]",
      "text/plain": [
       "<Figure size 432x288 with 1 Axes>"
      ]
     },
     "metadata": {
      "needs_background": "light"
     },
     "output_type": "display_data"
    }
   ],
   "source": [
    "from pandas import read_csv\n",
    "from matplotlib import pyplot\n",
    "from statsmodels.tsa.ar_model import AutoReg\n",
    "from sklearn.metrics import mean_squared_error\n",
    "import numpy\n",
    "from math import sqrt\n",
    "\n",
    "def difference(dataset):\n",
    "    diff = list()\n",
    "    for i in range(1, len(dataset)):\n",
    "        value = dataset[i] - dataset[i - 1]\n",
    "        diff.append(value)\n",
    "    return numpy.array(diff)\n",
    " \n",
    "def predict(coef, history):\n",
    "    yhat = coef[0]\n",
    "    for i in range(1, len(coef)):\n",
    "        yhat += coef[i] * history[-i]\n",
    "    return yhat\n",
    " \n",
    "X = difference(df.values)\n",
    "size = int(len(X) * 0.70)\n",
    "train, test = X[0:size], X[size:]\n",
    "# train autoregression\n",
    "window = 4\n",
    "model = AutoReg(train, lags=4)\n",
    "model_fit = model.fit()\n",
    "coef = model_fit.params\n",
    "# walk forward over time steps in test\n",
    "history = [train[i] for i in range(len(train))]\n",
    "predictions = list()\n",
    "for t in range(len(test)):\n",
    "    yhat = predict(coef, history)\n",
    "    obs = test[t]\n",
    "    predictions.append(yhat)\n",
    "    history.append(obs)\n",
    "rmse = sqrt(mean_squared_error(test, predictions))\n",
    "print('Test RMSE: %.3f' % rmse)\n",
    "# plot\n",
    "pyplot.plot(test)\n",
    "pyplot.plot(predictions, color='red')\n",
    "pyplot.show()"
   ]
  },
  {
   "cell_type": "markdown",
   "metadata": {},
   "source": [
    "Излезот од претходната ќелија (Test RMSE: 30.456) претставува <b>средната квадратна грешка на тренирачкото множество</b> на моделот. Добиениот график го претставува односот на вистинските опсервации (плавата линиија) и предикциите на моделот (црвената линија)."
   ]
  },
  {
   "cell_type": "markdown",
   "metadata": {},
   "source": [
    "Моделот се зачувува за да не мора одново да се извршува ако има потреба повторно да се користи. Значи, прво моделот се тренира на сите дозволени податоци и потоа се зачувува како file."
   ]
  },
  {
   "cell_type": "code",
   "execution_count": 16,
   "metadata": {},
   "outputs": [],
   "source": [
    "from pandas import read_csv\n",
    "from statsmodels.tsa.ar_model import AutoReg\n",
    "import numpy\n",
    "\n",
    "def difference(dataset):\n",
    "    diff = list()\n",
    "    for i in range(1, len(dataset)):\n",
    "        value = dataset[i] - dataset[i - 1]\n",
    "        diff.append(value)\n",
    "    return numpy.array(diff) \n",
    "\n",
    "series = df\n",
    "X = difference(series.values)\n",
    "model = AutoReg(X, lags=6)\n",
    "model_fit = model.fit()\n",
    "model_fit.save('ar_model.pkl')\n",
    "numpy.save('ar_data.npy', X)\n",
    "numpy.save('ar_obs.npy', [series.values[-1]])"
   ]
  },
  {
   "cell_type": "markdown",
   "metadata": {},
   "source": [
    "Со следната ќелија се прикажуваат добиените регресиони коефициенти од AR моделот после тренирањето и се прикажува последната опсервација од множеството: <b>за последниот достапен датум од тренирачкото множество 12.05.2020, бројот на вкупно дијагностицирани е 1674.</b>"
   ]
  },
  {
   "cell_type": "code",
   "execution_count": 17,
   "metadata": {},
   "outputs": [
    {
     "name": "stdout",
     "output_type": "stream",
     "text": [
      "[ 8.25723547e+01 -5.34447475e-01 -2.02605108e-01 -4.36904407e-01\n",
      " -4.95122763e-01 -6.65689943e-02  9.93230770e-02]\n",
      "[[1674]]\n"
     ]
    }
   ],
   "source": [
    "# load the AR model from file\n",
    "from statsmodels.tsa.ar_model import AutoRegResults\n",
    "import numpy\n",
    "loaded = AutoRegResults.load('ar_model.pkl')\n",
    "print(loaded.params)\n",
    "data = numpy.load('ar_data.npy')\n",
    "last_ob = numpy.load('ar_obs.npy')\n",
    "print(last_ob)"
   ]
  },
  {
   "cell_type": "markdown",
   "metadata": {},
   "source": [
    "Финално, за датумот кој следува веднаш по датумот на последната опсервацијa (значи, 13.05.2020), моделот креира предикција за бројот на можни заболени за тој датум:"
   ]
  },
  {
   "cell_type": "code",
   "execution_count": 18,
   "metadata": {},
   "outputs": [
    {
     "name": "stdout",
     "output_type": "stream",
     "text": [
      "Prediction: 1687.058510\n"
     ]
    }
   ],
   "source": [
    "# load AR model from file and make a one-step prediction\n",
    "from statsmodels.tsa.ar_model import AutoRegResults\n",
    "import numpy\n",
    "\n",
    "model = AutoRegResults.load('ar_model.pkl')\n",
    "data = numpy.load('ar_data.npy')\n",
    "last_ob = numpy.load('ar_obs.npy')\n",
    "\n",
    "# make prediction\n",
    "predictions = model.predict(start=len(data), end=len(data))\n",
    "# transform prediction\n",
    "yhat = predictions[0] + last_ob[0]\n",
    "print('Prediction: %f' % yhat)"
   ]
  },
  {
   "cell_type": "markdown",
   "metadata": {},
   "source": [
    "### Проблемот е решен. \n",
    "За <b>новиот непознат датум 13.05.2020</b>, тренираниот AR модел предвиде <b>1687 вкупно дијагностицирани</b>. Според тоа, за 13.05.2020 би биле предвидени <b> 13 нови случаи </b> на COVID19 за тој ден."
   ]
  },
  {
   "cell_type": "markdown",
   "metadata": {},
   "source": [
    "Во прилог е оставено и додатно решение за датумите кои недостасуваат во податочното множество од периодот 2020-04-08 до 2020-05-12. Се додаваат датумите 13те датуми кои недостасуваат. Доколку решението на проблемот се продолжи со цел да се подобри моделот, може да се пополни бројот на дијагностицирани за овие датуми според одредени пресметани статистики (просек на пораст на заболените во секој нареден ден) и да се работи на малку поголемо податочно множество со 35 записи. Сепак, вакво решение не се бараше во зададената задача."
   ]
  },
  {
   "cell_type": "code",
   "execution_count": 19,
   "metadata": {
    "scrolled": true
   },
   "outputs": [
    {
     "name": "stdout",
     "output_type": "stream",
     "text": [
      "2020-04-08     617\n",
      "2020-04-09       0\n",
      "2020-04-10       0\n",
      "2020-04-11       0\n",
      "2020-04-12       0\n",
      "2020-04-13       0\n",
      "2020-04-14     908\n",
      "2020-04-15     974\n",
      "2020-04-16    1081\n",
      "2020-04-17    1117\n",
      "2020-04-18    1170\n",
      "2020-04-19    1207\n",
      "2020-04-20    1225\n",
      "2020-04-21    1231\n",
      "2020-04-22    1259\n",
      "2020-04-23    1300\n",
      "2020-04-24       0\n",
      "2020-04-25    1367\n",
      "2020-04-26    1386\n",
      "2020-04-27    1399\n",
      "2020-04-28    1421\n",
      "2020-04-29    1442\n",
      "2020-04-30       0\n",
      "2020-05-01    1494\n",
      "2020-05-02    1506\n",
      "2020-05-03       0\n",
      "2020-05-04       0\n",
      "2020-05-05       0\n",
      "2020-05-06       0\n",
      "2020-05-07    1572\n",
      "2020-05-08    1586\n",
      "2020-05-09    1622\n",
      "2020-05-10       0\n",
      "2020-05-11       0\n",
      "2020-05-12    1674\n",
      "Freq: D, dtype: int64\n",
      "35\n"
     ]
    }
   ],
   "source": [
    "import pandas as pd\n",
    "\n",
    "idx = pd.date_range('2020-04-08', '2020-05-12')\n",
    "\n",
    "#[1674, 1622, 1586, 1506, 1572, 1494, 1442, 1421, 1399, 1300, 1386, 1367, 1259, 1170, 1225, 1231, 1207, 1117, 1081, 974, 908, 617]\n",
    "diagnosed_total.sort()\n",
    "data_filled = pd.Series({'2020-04-08': 617,'2020-04-14' : 908, '2020-04-15' : 974, '2020-04-16' : 1081, '2020-04-17' : 1117,\n",
    "'2020-04-18': 1170,'2020-04-19' : 1207, '2020-04-20' : 1225, '2020-04-21' : 1231,  '2020-04-22' : 1259, '2020-04-23' : 1300,\n",
    "               '2020-04-25' : 1367, '2020-04-26' : 1386, '2020-04-27' : 1399, '2020-04-28' : 1421, '2020-04-29' : 1442,\n",
    "               '2020-05-01' : 1494, '2020-05-02' : 1506, '2020-05-07' : 1572, '2020-05-08' : 1586, '2020-05-09' : 1622,\n",
    "            '2020-05-12' : 1674})\n",
    "data_filled.index = pd.DatetimeIndex(data_filled.index)\n",
    "\n",
    "mean=0\n",
    "suma=0\n",
    "vk=0\n",
    "for j in range (len(diagnosed_total)-1):\n",
    "    suma=(diagnosed_total[j+1]-diagnosed_total[j])\n",
    "    vk=vk+suma\n",
    "\n",
    "mean=int(vk/21)\n",
    "\n",
    "data_filled = data_filled.reindex(idx, fill_value=0)\n",
    "print(data_filled)\n",
    "print(len(data_filled))"
   ]
  }
 ],
 "metadata": {
  "kernelspec": {
   "display_name": "Python 3",
   "language": "python",
   "name": "python3"
  },
  "language_info": {
   "codemirror_mode": {
    "name": "ipython",
    "version": 3
   },
   "file_extension": ".py",
   "mimetype": "text/x-python",
   "name": "python",
   "nbconvert_exporter": "python",
   "pygments_lexer": "ipython3",
   "version": "3.7.6"
  }
 },
 "nbformat": 4,
 "nbformat_minor": 4
}
